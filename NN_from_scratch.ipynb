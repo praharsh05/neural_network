{
 "cells": [
  {
   "cell_type": "markdown",
   "metadata": {},
   "source": [
    "Coding a Neural Network from Scratch"
   ]
  },
  {
   "cell_type": "markdown",
   "metadata": {},
   "source": [
    "Activation Function"
   ]
  },
  {
   "cell_type": "code",
   "execution_count": 7,
   "metadata": {},
   "outputs": [],
   "source": [
    "import numpy as np\n",
    "\n",
    "def sigmoid(x):\n",
    "    # Our activation function: f(x) = 1 / (1 + e^(-x))\n",
    "    return 1/ (1 + np.exp(-x))"
   ]
  },
  {
   "cell_type": "markdown",
   "metadata": {},
   "source": [
    "Creating a Neuron"
   ]
  },
  {
   "cell_type": "code",
   "execution_count": 8,
   "metadata": {},
   "outputs": [],
   "source": [
    "class Neuron:\n",
    "\n",
    "    def __init__(self, weight, bias):\n",
    "        self.weight = weight\n",
    "        self.bias = bias\n",
    "    \n",
    "    def feed_forward(self, inputs):\n",
    "        # Weight inputs, add bias, then use the activation function\n",
    "        total = np.dot(self.weight, inputs) + self.bias\n",
    "        return sigmoid(total)"
   ]
  },
  {
   "cell_type": "markdown",
   "metadata": {},
   "source": [
    "Implementing a Neuron"
   ]
  },
  {
   "cell_type": "code",
   "execution_count": 9,
   "metadata": {},
   "outputs": [
    {
     "name": "stdout",
     "output_type": "stream",
     "text": [
      "0.9990889488055994\n"
     ]
    }
   ],
   "source": [
    "weights = np.array([0,1]) # w1 = 0, w2 = 1\n",
    "bias = 4 # b = 4\n",
    "\n",
    "n = Neuron(weights, bias)\n",
    "\n",
    "x = np.array([2,3]) # x1 = 2, x2 = 3\n",
    "\n",
    "print(n.feed_forward(x)) # 0.9990889488055994"
   ]
  },
  {
   "cell_type": "markdown",
   "metadata": {},
   "source": [
    "Combining Neurons into a Neural Network"
   ]
  },
  {
   "cell_type": "code",
   "execution_count": 10,
   "metadata": {},
   "outputs": [],
   "source": [
    "class Neural_Network:\n",
    "    '''\n",
    "    A Neural Network with:\n",
    "        1. 2 Inputs\n",
    "        2. A hidden layer with 2 neurons (h1, h2)\n",
    "        3. An output layer with 1 neuron (o1)\n",
    "    Each Neuron has the same weight and bias:\n",
    "        w = [0,1]\n",
    "        b = 0\n",
    "    '''\n",
    "\n",
    "    def __init__(self):\n",
    "        weights = np.array([0,1])\n",
    "        bias = 0\n",
    "\n",
    "        # Neurons\n",
    "        self.h1 = Neuron(weights, bias)\n",
    "        self.h2 = Neuron(weights, bias)\n",
    "        self.o1 = Neuron(weights, bias)\n",
    "    \n",
    "    def feed_forward(self, x):\n",
    "        out_h1 = self.h1.feed_forward(x)\n",
    "        out_h2 = self.h2.feed_forward(x)\n",
    "\n",
    "        # The inputs for o1 are the outputs of h1 and h2\n",
    "        out_o1 = self.o1.feed_forward(np.array([out_h1, out_h2]))\n",
    "\n",
    "        return out_o1"
   ]
  },
  {
   "cell_type": "code",
   "execution_count": 11,
   "metadata": {},
   "outputs": [
    {
     "name": "stdout",
     "output_type": "stream",
     "text": [
      "0.7216325609518421\n"
     ]
    }
   ],
   "source": [
    "network = Neural_Network()\n",
    "x = np.array([2,3])\n",
    "print(network.feed_forward(x)) # 0.7216325609518421"
   ]
  },
  {
   "cell_type": "markdown",
   "metadata": {},
   "source": [
    "Training a Neural Network"
   ]
  },
  {
   "cell_type": "markdown",
   "metadata": {},
   "source": [
    "We have the following measurements:\n",
    "\n",
    "Name\tWeight (lb)\t Height (in)\t  Gender\n",
    "Alice\t   133\t        65\t            F\n",
    "Bob\t       160\t        72\t            M\n",
    "Charlie\t   152\t        70\t            M\n",
    "Diana\t   120\t        60\t            F\n",
    "\n",
    "let's train our model to predict someone's gender based on thier weight and height\n",
    "\n",
    "We will represent male with a 0 and female with a 1, we will also shift the data to make it easier to use.\n",
    "\n",
    "Name\tWeight (-135)\t Height (-66)\t  Gender\n",
    "Alice\t    -2\t             -1\t            1\n",
    "Bob\t        25\t              6\t            0\n",
    "Charlie\t    17\t              4\t            0\n",
    "Diana\t   -15\t             -6\t            1"
   ]
  },
  {
   "cell_type": "markdown",
   "metadata": {},
   "source": [
    "Loss\n",
    "\n",
    "Before we train the model, we first need a way to quantify how \"good\" its doing so we can improve.\n",
    "\n",
    "We will use the Mean Squared Error (MSE) Loss:\n",
    "MSE=  1/n 1->n ∑(y[true] - y[pred])**2\n",
    "\n",
    "n is the number of samples, which is 4 (Alice, Bob, Charlie, Diana).\n",
    "y represents the variable being predicted, which is Gender.\n",
    "y[true] is the true value of the variable (the “correct answer”). For example, y[true] for Alice would be 1 (Female).\n",
    "y[pred] is the predicted value of the variable. It’s whatever our network outputs.\n",
    "\n",
    "(y[true] - y[pred])**2 is known as the squared error. Our loss function is simply taking the average over all squared errors (hence the name mean squared error). The better our predictions are, the lower our loss will be!\n",
    "\n",
    "Better predictions = Lower loss.\n",
    "Training a network = trying to minimize its loss."
   ]
  },
  {
   "cell_type": "markdown",
   "metadata": {},
   "source": [
    "Exampke of loss calculation"
   ]
  },
  {
   "cell_type": "code",
   "execution_count": 1,
   "metadata": {},
   "outputs": [
    {
     "name": "stdout",
     "output_type": "stream",
     "text": [
      "0.5\n"
     ]
    }
   ],
   "source": [
    "import numpy as np\n",
    "\n",
    "def mse_loss(y_true: np.array, y_pred: np.array):\n",
    "    return ((y_true - y_pred) ** 2).mean()\n",
    "\n",
    "y_pred = np.array([0,0,0,0])\n",
    "y_true = np.array([1,0,0,1])\n",
    "\n",
    "print(mse_loss(y_true, y_pred)) # 0.5"
   ]
  }
 ],
 "metadata": {
  "kernelspec": {
   "display_name": ".venv",
   "language": "python",
   "name": "python3"
  },
  "language_info": {
   "codemirror_mode": {
    "name": "ipython",
    "version": 3
   },
   "file_extension": ".py",
   "mimetype": "text/x-python",
   "name": "python",
   "nbconvert_exporter": "python",
   "pygments_lexer": "ipython3",
   "version": "3.11.1"
  }
 },
 "nbformat": 4,
 "nbformat_minor": 2
}
